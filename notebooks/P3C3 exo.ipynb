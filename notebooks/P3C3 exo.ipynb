{
  "cells": [
    {
      "cell_type": "markdown",
      "metadata": {
        "id": "jSGDUURWOeFr"
      },
      "source": [
        "![openclassrooms](https://s3.eu-west-1.amazonaws.com/course.oc-static.com/courses/6204541/1+HnqdJ-5ofxiPP9HIxdNdpw.jpeg)\n",
        "\n",
        "# Initiez-vous à Python pour l'analyse de données\n",
        "\n",
        "## Choisissez la boucle adéquate\n",
        "\n",
        "<br><br>\n",
        "\n",
        "**La boucle WHILE : “bouclez” selon une condition**\n",
        "\n",
        "Créez une boucle `for` qui va afficher : 'OpenClassRooms est vraiment top !' 5 fois"
      ]
    },
    {
      "cell_type": "code",
      "execution_count": 14,
      "metadata": {
        "id": "6GRN3bjEOeFu",
        "outputId": "225da67a-a301-4cf5-c04a-bcbe86006a4f",
        "colab": {
          "base_uri": "https://localhost:8080/"
        }
      },
      "outputs": [
        {
          "output_type": "stream",
          "name": "stdout",
          "text": [
            "OpenClassRooms est vraiment top!\n",
            "OpenClassRooms est vraiment top!\n",
            "OpenClassRooms est vraiment top!\n",
            "OpenClassRooms est vraiment top!\n",
            "OpenClassRooms est vraiment top!\n"
          ]
        }
      ],
      "source": [
        "for i in range(5):\n",
        "        print(\"OpenClassRooms est vraiment top!\")"
      ]
    },
    {
      "cell_type": "markdown",
      "metadata": {
        "id": "V9TfjzeXOeFu"
      },
      "source": [
        "Changez votre boucle `for` par une boucle `while` :"
      ]
    },
    {
      "cell_type": "code",
      "execution_count": 13,
      "metadata": {
        "id": "YU7s-ifKOeFv",
        "outputId": "d69f49d4-3645-44b1-b7e5-890c9a939d06",
        "colab": {
          "base_uri": "https://localhost:8080/"
        }
      },
      "outputs": [
        {
          "output_type": "stream",
          "name": "stdout",
          "text": [
            "OpenClassRoom est vraiment top!\n",
            "OpenClassRoom est vraiment top!\n",
            "OpenClassRoom est vraiment top!\n",
            "OpenClassRoom est vraiment top!\n",
            "OpenClassRoom est vraiment top!\n"
          ]
        }
      ],
      "source": [
        "i = 0\n",
        "while i < 5:\n",
        "  i += 1\n",
        "  print(\"OpenClassRoom est vraiment top!\")"
      ]
    },
    {
      "cell_type": "code",
      "source": [],
      "metadata": {
        "id": "fZfFnCHrQEWA"
      },
      "execution_count": null,
      "outputs": []
    }
  ],
  "metadata": {
    "kernelspec": {
      "display_name": "Python 3",
      "language": "python",
      "name": "python3"
    },
    "language_info": {
      "codemirror_mode": {
        "name": "ipython",
        "version": 3
      },
      "file_extension": ".py",
      "mimetype": "text/x-python",
      "name": "python",
      "nbconvert_exporter": "python",
      "pygments_lexer": "ipython3",
      "version": "3.8.5"
    },
    "colab": {
      "provenance": []
    }
  },
  "nbformat": 4,
  "nbformat_minor": 0
}